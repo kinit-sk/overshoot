{
 "cells": [
  {
   "cell_type": "code",
   "execution_count": 35,
   "metadata": {},
   "outputs": [
    {
     "name": "stdout",
     "output_type": "stream",
     "text": [
      "Processing resnet18_cifar100\n",
      "Processing 3c3d_cifar10\n",
      "Processing vae_f-mnist\n",
      "Processing vae_mnist\n",
      "Processing mlp_housing\n",
      "Processing gpt_hf_qqp\n",
      "Processing 2c2d_f-mnist\n"
     ]
    }
   ],
   "source": [
    "## Load numbers\n",
    "\n",
    "\n",
    "import os\n",
    "import numpy as np\n",
    "import pandas as pd\n",
    "\n",
    "\n",
    "# root = '/home/kopi/kinit/table1/'\n",
    "root = '/home/kopal/overshoot/lightning_logs/table1'\n",
    "\n",
    "\n",
    "task_name_mapping = {\n",
    "    \"mlp_housing\": \"MLP-CA\",\n",
    "    \"vae_f-mnist\": \"VAE-FM\",\n",
    "    \"vae_mnist\": \"VAE-M\",\n",
    "    \"2c2d_f-mnist\": \"2c2d-FM\",\n",
    "    \"3c3d_cifar10\": \"3c3d-C10\",\n",
    "    \"resnet18_cifar100\": \"ResNet-C100\",\n",
    "    \"gpt_hf_qqp\": \"GPT-2\",\n",
    "}\n",
    "\n",
    "optimizers_names_mapping = {\n",
    "    \"sgd_baseline\": \"CM\",\n",
    "    \"nesterov\": \"NAG\",\n",
    "    \"sgd_overshoot_3\": \"SGD3\",\n",
    "    \"sgd_overshoot_5\": \"SGD5\",\n",
    "    \"sgd_overshoot_7\": \"SGD7\",\n",
    "    \"adam_baseline\": \"Adam\",\n",
    "    \"nadam\": \"Nadam\",\n",
    "    \"adam_overshoot_3\": \"Adam3\",\n",
    "    \"adam_overshoot_5\": \"Adam5\",\n",
    "    \"adam_overshoot_7\": \"Adam7\",\n",
    "}\n",
    "\n",
    "\n",
    "\n",
    "def average_convergance(path):\n",
    "    dfs = [pd.read_csv(os.path.join(path, seed, 'training_stats.csv')) for seed in os.listdir(path)]\n",
    "    return np.mean([df['base_loss_1'] for df in dfs], axis=0)\n",
    "\n",
    "def process_task(path):\n",
    "    results = {}\n",
    "    for method_name in os.listdir(path):\n",
    "        if method_name not in optimizers_names_mapping.keys():\n",
    "            continue\n",
    "        \n",
    "        method_path = os.path.join(path, method_name)\n",
    "        if os.path.isdir(method_path):\n",
    "            results[method_name] =  average_convergance(method_path)\n",
    "    return results\n",
    "\n",
    "\n",
    "\n",
    "tasks = {}\n",
    "for task_name in os.listdir(root):\n",
    "    if task_name not in task_name_mapping.keys():\n",
    "        continue\n",
    "    task_path = os.path.join(root, task_name)\n",
    "    print(\"Processing\", task_name)\n",
    "    tasks[task_name] = process_task(task_path)"
   ]
  },
  {
   "cell_type": "code",
   "execution_count": 56,
   "metadata": {},
   "outputs": [],
   "source": [
    "task_running_avg = {}\n",
    "avg_size = 400\n",
    "for task_name, task in tasks.items():\n",
    "    task_avg = {}\n",
    "    for method_name, values in task.items():\n",
    "        task_avg[method_name] = np.array([np.mean(values[i-avg_size:i]) for i in range(avg_size, len(values))])\n",
    "    task_running_avg[task_name] = task_avg"
   ]
  },
  {
   "cell_type": "code",
   "execution_count": 61,
   "metadata": {},
   "outputs": [
    {
     "name": "stdout",
     "output_type": "stream",
     "text": [
      "[23.770347902564946, 26.19080263139313, 26.539956544187213]\n",
      "[15.273993986447236, 19.53347561166684, 20.109127850947406]\n"
     ]
    }
   ],
   "source": [
    "\n",
    "reduction_sgd = [[], [], []]\n",
    "reduction_adam = [[], [], []]\n",
    "resutls = {\"sgd\":[[], [], []], \"adam\":[[], [], []]}\n",
    "\n",
    "for task_name, task in task_running_avg.items():\n",
    "    for t in [\"sgd\", \"adam\"]:\n",
    "        baseline_treshold = task[f'{t}_baseline'][0] - 0.95 * (task[f'{t}_baseline'][0] - task[f'{t}_baseline'][-1])\n",
    "        baseline_steps = np.where(task[f'{t}_baseline'] <= baseline_treshold)[0][0]\n",
    "        for r, c in zip(resutls[t], [3, 5, 7]):\n",
    "            steps = np.where(task[f'{t}_overshoot_{c}'] <= baseline_treshold)[0][0]\n",
    "            # r.append(100 - 100 * steps / baseline_steps)\n",
    "            r.append(100 * (baseline_steps - steps) / baseline_steps)\n",
    "            \n",
    "\n",
    "\n",
    "\n",
    "print([np.mean(r) for r in resutls[\"sgd\"]])\n",
    "print([np.mean(r) for r in resutls[\"adam\"]])\n",
    "\n",
    "\n",
    "\n",
    "\n"
   ]
  }
 ],
 "metadata": {
  "kernelspec": {
   "display_name": "overshoot",
   "language": "python",
   "name": "python3"
  },
  "language_info": {
   "codemirror_mode": {
    "name": "ipython",
    "version": 3
   },
   "file_extension": ".py",
   "mimetype": "text/x-python",
   "name": "python",
   "nbconvert_exporter": "python",
   "pygments_lexer": "ipython3",
   "version": "3.12.4"
  }
 },
 "nbformat": 4,
 "nbformat_minor": 2
}
